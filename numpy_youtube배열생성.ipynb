{
 "cells": [
  {
   "cell_type": "markdown",
   "id": "abandoned-italy",
   "metadata": {},
   "source": [
    "NUMPY\n",
    "======"
   ]
  },
  {
   "cell_type": "markdown",
   "id": "facial-collapse",
   "metadata": {},
   "source": [
    "--------------------"
   ]
  },
  {
   "cell_type": "markdown",
   "id": "artificial-platinum",
   "metadata": {},
   "source": [
    "## numpy의 특징"
   ]
  },
  {
   "cell_type": "markdown",
   "id": "meaningful-cooper",
   "metadata": {},
   "source": [
    "* Numerical Python의 약자\n",
    "* 고성능 과학 계산용 페키지로 강력한 N차원 배열 객체\n",
    "* 범용적 데이터 처리에 사용 가능한 다차원 컨테이너\n",
    "* 정교한 브로드캐스팅 가능\n",
    "* 파이썬의 자료형 list와 비슷하지만, 더 빠르고 메모리를 효율적으로 관리\n",
    "* 반복문 없이 데이터 배열에 대한 처리를 지원하고 빠르고 편리\n",
    "* 데이터 과학 도구에 대한 갱태계의 핵심을 이루고 있음"
   ]
  },
  {
   "cell_type": "code",
   "execution_count": 2,
   "id": "adequate-intelligence",
   "metadata": {},
   "outputs": [
    {
     "name": "stdout",
     "output_type": "stream",
     "text": [
      "1.19.2\n"
     ]
    }
   ],
   "source": [
    "import numpy as np\n",
    "print(np.__version__)"
   ]
  },
  {
   "cell_type": "code",
   "execution_count": 3,
   "id": "contained-sacramento",
   "metadata": {},
   "outputs": [
    {
     "name": "stdout",
     "output_type": "stream",
     "text": [
      "[1 2 3 4 5]\n",
      "<class 'numpy.ndarray'>\n",
      "(5,)\n",
      "1 2 3 4 5\n",
      "[4 5 6 4 5]\n"
     ]
    }
   ],
   "source": [
    "\n",
    "a1 = np.array([1, 2, 3, 4 ,5])\n",
    "print(a1)\n",
    "print(type(a1))\n",
    "print(a1.shape)\n",
    "print(a1[0], a1[1], a1[2], a1[3], a1[4])\n",
    "a1[0] = 4\n",
    "a1[1] = 5\n",
    "a1[2] = 6\n",
    "print(a1)"
   ]
  },
  {
   "cell_type": "markdown",
   "id": "tough-baghdad",
   "metadata": {},
   "source": [
    "> 1차원 배열을 만들었습니다."
   ]
  },
  {
   "cell_type": "code",
   "execution_count": 4,
   "id": "conditional-water",
   "metadata": {},
   "outputs": [
    {
     "name": "stdout",
     "output_type": "stream",
     "text": [
      "[[1 2 3]\n",
      " [4 5 6]\n",
      " [7 8 9]]\n",
      "(3, 3)\n",
      "1 5 9\n"
     ]
    }
   ],
   "source": [
    "a2 = np.array([ [1,2,3], [4,5,6], [7,8,9]])\n",
    "print(a2)\n",
    "print(a2.shape)\n",
    "print(a2[0,0], a2[1,1], a2[2,2])"
   ]
  },
  {
   "cell_type": "markdown",
   "id": "further-adventure",
   "metadata": {},
   "source": [
    "> 2차원 배열을 만들었습니다."
   ]
  },
  {
   "cell_type": "code",
   "execution_count": 5,
   "id": "happy-robinson",
   "metadata": {},
   "outputs": [
    {
     "name": "stdout",
     "output_type": "stream",
     "text": [
      "[[[1 2 3]\n",
      "  [4 5 6]\n",
      "  [7 8 9]]\n",
      "\n",
      " [[1 2 3]\n",
      "  [4 5 6]\n",
      "  [7 8 9]]\n",
      "\n",
      " [[1 2 3]\n",
      "  [4 5 6]\n",
      "  [7 8 9]]]\n",
      "(3, 3, 3)\n"
     ]
    }
   ],
   "source": [
    "a3 = np.array([ [ [1,2,3], [4,5,6], [7,8,9] ],\n",
    "                   [ [1,2,3], [4,5,6], [7,8,9] ],\n",
    "                   [ [1,2,3], [4,5,6], [7,8,9] ] ])\n",
    "print(a3)\n",
    "print(a3.shape)"
   ]
  },
  {
   "cell_type": "markdown",
   "id": "color-burst",
   "metadata": {},
   "source": [
    "> 3차원 배열을 만들었습니다."
   ]
  },
  {
   "cell_type": "markdown",
   "id": "wanted-habitat",
   "metadata": {},
   "source": [
    "## 배열 생성 및 초기화"
   ]
  },
  {
   "cell_type": "markdown",
   "id": "auburn-shock",
   "metadata": {},
   "source": [
    "* zeros() : 모든요소를 0 으로 초기화"
   ]
  },
  {
   "cell_type": "code",
   "execution_count": 6,
   "id": "closing-reconstruction",
   "metadata": {},
   "outputs": [
    {
     "data": {
      "text/plain": [
       "array([0., 0., 0., 0., 0., 0., 0., 0., 0., 0.])"
      ]
     },
     "execution_count": 6,
     "metadata": {},
     "output_type": "execute_result"
    }
   ],
   "source": [
    "np.zeros(10)"
   ]
  },
  {
   "cell_type": "markdown",
   "id": "attractive-duration",
   "metadata": {},
   "source": [
    "> 10개의 요소를 0으로 초기화된 배열 만들기"
   ]
  },
  {
   "cell_type": "markdown",
   "id": "stone-machine",
   "metadata": {},
   "source": [
    "* ones() : 모든 요소를 1로 초기화"
   ]
  },
  {
   "cell_type": "code",
   "execution_count": 7,
   "id": "satisfied-louisville",
   "metadata": {},
   "outputs": [
    {
     "data": {
      "text/plain": [
       "array([1., 1., 1., 1., 1., 1., 1., 1., 1., 1.])"
      ]
     },
     "execution_count": 7,
     "metadata": {},
     "output_type": "execute_result"
    }
   ],
   "source": [
    "np.ones(10)"
   ]
  },
  {
   "cell_type": "markdown",
   "id": "union-expense",
   "metadata": {},
   "source": [
    "> 10개의 요소를 1로 초기화된 배열 만들기"
   ]
  },
  {
   "cell_type": "code",
   "execution_count": 10,
   "id": "pursuant-nitrogen",
   "metadata": {},
   "outputs": [
    {
     "data": {
      "text/plain": [
       "array([[1., 1., 1.],\n",
       "       [1., 1., 1.],\n",
       "       [1., 1., 1.]])"
      ]
     },
     "execution_count": 10,
     "metadata": {},
     "output_type": "execute_result"
    }
   ],
   "source": [
    "np.ones((3,3))"
   ]
  },
  {
   "cell_type": "markdown",
   "id": "relative-substitute",
   "metadata": {},
   "source": [
    "> 2차원 배열도 가능합니다."
   ]
  },
  {
   "cell_type": "markdown",
   "id": "devoted-honolulu",
   "metadata": {},
   "source": [
    "* full() : 모든 요소를 지정한 값으로 초기화"
   ]
  },
  {
   "cell_type": "code",
   "execution_count": 11,
   "id": "pharmaceutical-closure",
   "metadata": {},
   "outputs": [
    {
     "data": {
      "text/plain": [
       "array([[1.23, 1.23, 1.23],\n",
       "       [1.23, 1.23, 1.23],\n",
       "       [1.23, 1.23, 1.23]])"
      ]
     },
     "execution_count": 11,
     "metadata": {},
     "output_type": "execute_result"
    }
   ],
   "source": [
    "np.full((3,3), 1.23)"
   ]
  },
  {
   "cell_type": "markdown",
   "id": "favorite-chancellor",
   "metadata": {},
   "source": [
    "* eye() : 단위행렬(identity matrix)생성\n",
    "    * 주대각선의 원소가 모두 1이고 나머지 원소는 모두 0인 정사각 행렬"
   ]
  },
  {
   "cell_type": "code",
   "execution_count": 13,
   "id": "quantitative-track",
   "metadata": {},
   "outputs": [
    {
     "data": {
      "text/plain": [
       "array([[1., 0., 0.],\n",
       "       [0., 1., 0.],\n",
       "       [0., 0., 1.]])"
      ]
     },
     "execution_count": 13,
     "metadata": {},
     "output_type": "execute_result"
    }
   ],
   "source": [
    "np.eye(3)"
   ]
  },
  {
   "cell_type": "markdown",
   "id": "interior-interview",
   "metadata": {},
   "source": [
    "> 정사각 행렬이므로 길이만 적어주면 생성가능합니다."
   ]
  },
  {
   "cell_type": "markdown",
   "id": "behind-banking",
   "metadata": {},
   "source": [
    "* tri(): 삼각행렬 생성"
   ]
  },
  {
   "cell_type": "code",
   "execution_count": 14,
   "id": "annual-ballet",
   "metadata": {},
   "outputs": [
    {
     "data": {
      "text/plain": [
       "array([[1., 0., 0.],\n",
       "       [1., 1., 0.],\n",
       "       [1., 1., 1.]])"
      ]
     },
     "execution_count": 14,
     "metadata": {},
     "output_type": "execute_result"
    }
   ],
   "source": [
    "np.tri(3)"
   ]
  },
  {
   "cell_type": "markdown",
   "id": "oriented-hacker",
   "metadata": {},
   "source": [
    "* empty() : 초기화되지 않은 배열 생성\n",
    "        *초기화가 없어서 배열 생성비용 저렴하고 빠름\n",
    "        *초기화되지 않아서 기존 메모리 위치에 존재하는 값이 있음"
   ]
  },
  {
   "cell_type": "code",
   "execution_count": 16,
   "id": "american-blackberry",
   "metadata": {},
   "outputs": [
    {
     "data": {
      "text/plain": [
       "array([1., 1., 1., 1., 1., 1., 1., 1., 1., 1.])"
      ]
     },
     "execution_count": 16,
     "metadata": {},
     "output_type": "execute_result"
    }
   ],
   "source": [
    "np.empty(10)"
   ]
  },
  {
   "cell_type": "markdown",
   "id": "interim-amazon",
   "metadata": {},
   "source": [
    "* _like() : 지정된 배열과 shape가 같은 행렬 생성\n",
    "    - np.zeros_like()\n",
    "    - np.ones_like()\n",
    "    - np.full_like()\n",
    "    - np.empty_like()"
   ]
  },
  {
   "cell_type": "code",
   "execution_count": 18,
   "id": "ultimate-internship",
   "metadata": {},
   "outputs": [
    {
     "name": "stdout",
     "output_type": "stream",
     "text": [
      "[4 5 6 4 5]\n"
     ]
    },
    {
     "data": {
      "text/plain": [
       "array([0, 0, 0, 0, 0])"
      ]
     },
     "execution_count": 18,
     "metadata": {},
     "output_type": "execute_result"
    }
   ],
   "source": [
    "print(a1)\n",
    "np.zeros_like(a1)"
   ]
  },
  {
   "cell_type": "code",
   "execution_count": 19,
   "id": "disturbed-strand",
   "metadata": {},
   "outputs": [
    {
     "name": "stdout",
     "output_type": "stream",
     "text": [
      "[[1 2 3]\n",
      " [4 5 6]\n",
      " [7 8 9]]\n"
     ]
    },
    {
     "data": {
      "text/plain": [
       "array([[1, 1, 1],\n",
       "       [1, 1, 1],\n",
       "       [1, 1, 1]])"
      ]
     },
     "execution_count": 19,
     "metadata": {},
     "output_type": "execute_result"
    }
   ],
   "source": [
    "print(a2)\n",
    "np.ones_like(a2)"
   ]
  },
  {
   "cell_type": "code",
   "execution_count": 20,
   "id": "graphic-shoot",
   "metadata": {},
   "outputs": [
    {
     "name": "stdout",
     "output_type": "stream",
     "text": [
      "[[[1 2 3]\n",
      "  [4 5 6]\n",
      "  [7 8 9]]\n",
      "\n",
      " [[1 2 3]\n",
      "  [4 5 6]\n",
      "  [7 8 9]]\n",
      "\n",
      " [[1 2 3]\n",
      "  [4 5 6]\n",
      "  [7 8 9]]]\n"
     ]
    },
    {
     "data": {
      "text/plain": [
       "array([[[10, 10, 10],\n",
       "        [10, 10, 10],\n",
       "        [10, 10, 10]],\n",
       "\n",
       "       [[10, 10, 10],\n",
       "        [10, 10, 10],\n",
       "        [10, 10, 10]],\n",
       "\n",
       "       [[10, 10, 10],\n",
       "        [10, 10, 10],\n",
       "        [10, 10, 10]]])"
      ]
     },
     "execution_count": 20,
     "metadata": {},
     "output_type": "execute_result"
    }
   ],
   "source": [
    "print(a3)\n",
    "np.full_like(a3, 10)"
   ]
  },
  {
   "cell_type": "markdown",
   "id": "african-dylan",
   "metadata": {},
   "source": [
    "> a1,a2,a3와 같은 shape의 형태의 행렬을 생성합니다"
   ]
  },
  {
   "cell_type": "markdown",
   "id": "fundamental-athletics",
   "metadata": {},
   "source": [
    "## 생성한 값으로 배열 생성"
   ]
  },
  {
   "cell_type": "markdown",
   "id": "appropriate-mount",
   "metadata": {},
   "source": [
    "* arange(): 정수 범위로 배열 생성"
   ]
  },
  {
   "cell_type": "code",
   "execution_count": 23,
   "id": "eight-korea",
   "metadata": {},
   "outputs": [
    {
     "data": {
      "text/plain": [
       "array([ 0,  2,  4,  6,  8, 10, 12, 14, 16, 18, 20, 22, 24, 26, 28])"
      ]
     },
     "execution_count": 23,
     "metadata": {},
     "output_type": "execute_result"
    }
   ],
   "source": [
    "np.arange(0, 30, 2)"
   ]
  },
  {
   "cell_type": "markdown",
   "id": "nervous-small",
   "metadata": {},
   "source": [
    "> 0 부터 30까지 2씩 증가하는 배열을 생성합니다."
   ]
  },
  {
   "cell_type": "markdown",
   "id": "documentary-allocation",
   "metadata": {},
   "source": [
    "* linspace(): 범위 내에서 균등 간격의 배열 생성"
   ]
  },
  {
   "cell_type": "code",
   "execution_count": 26,
   "id": "incorporate-plane",
   "metadata": {},
   "outputs": [
    {
     "data": {
      "text/plain": [
       "array([0.  , 0.25, 0.5 , 0.75, 1.  ])"
      ]
     },
     "execution_count": 26,
     "metadata": {},
     "output_type": "execute_result"
    }
   ],
   "source": [
    "np.linspace(0, 1, 5)"
   ]
  },
  {
   "cell_type": "markdown",
   "id": "realistic-essay",
   "metadata": {},
   "source": [
    "> 0 부터 1까지 5개로 균등하게 나눈 배열을 생성합니다."
   ]
  },
  {
   "cell_type": "markdown",
   "id": "complimentary-bread",
   "metadata": {},
   "source": [
    "* logspace(): 범위 내에서 균등간격으로 로그 스케일로 배열 생성"
   ]
  },
  {
   "cell_type": "code",
   "execution_count": 27,
   "id": "express-kuwait",
   "metadata": {},
   "outputs": [
    {
     "data": {
      "text/plain": [
       "array([ 1.25892541,  1.40400425,  1.565802  ,  1.74624535,  1.94748304,\n",
       "        2.1719114 ,  2.42220294,  2.70133812,  3.0126409 ,  3.35981829,\n",
       "        3.74700446,  4.17881006,  4.66037703,  5.19743987,  5.79639395,\n",
       "        6.46437163,  7.2093272 ,  8.04013161,  8.9666781 , 10.        ])"
      ]
     },
     "execution_count": 27,
     "metadata": {},
     "output_type": "execute_result"
    }
   ],
   "source": [
    "np.logspace(0.1, 1, 20)"
   ]
  },
  {
   "cell_type": "markdown",
   "id": "flexible-chrome",
   "metadata": {},
   "source": [
    "## 랜덤값으로 배열 생성"
   ]
  },
  {
   "cell_type": "markdown",
   "id": "natural-grocery",
   "metadata": {},
   "source": [
    "| 데이터 타입 | 설명 |\n",
    "| ------ | -------- | \n",
    "| seed | 난수 발생을 위한 시드 지정 | \n",
    "| permutation | 숫자를 임의로 바꾸거나 임의의 순열 반환 | \n",
    "| shuffle | 리스트나 배열의 순서를 뒤썩음 |\n",
    "| random | 랜덤한 수의 배열 생성 | \n",
    "| rand | 군등분포에서 표본 추출 | \n",
    "| randint | 주어진 최소/최대 범위의 난수 추출 |\n",
    "| randn | 표준편차가 1, 평균갑 0인 정규분포의 표본 추출 | \n",
    "| binomial | 이항부포에서 표본 추출 | \n",
    "| normal | 정규분포(가우시안)에서 표본 추출 |\n",
    "| beta | 베타분포에서 표본 추출 | \n",
    "| chisquare | 카이제곱분포에서 표본 추출 | \n",
    "| gamma | 감마분포에서 표본 추출 |\n",
    "| uniform | 균둥(0,1)분포에서 표본 추출 | "
   ]
  },
  {
   "cell_type": "markdown",
   "id": "economic-prime",
   "metadata": {},
   "source": [
    "* random.random(): 랜덤한 수의 배열 생성"
   ]
  },
  {
   "cell_type": "code",
   "execution_count": 29,
   "id": "arabic-chair",
   "metadata": {},
   "outputs": [
    {
     "data": {
      "text/plain": [
       "array([[0.59711536, 0.37560558, 0.31908363],\n",
       "       [0.11926805, 0.51551131, 0.19431341],\n",
       "       [0.55037407, 0.78887872, 0.20672511]])"
      ]
     },
     "execution_count": 29,
     "metadata": {},
     "output_type": "execute_result"
    }
   ],
   "source": [
    "np.random.random((3,3))"
   ]
  },
  {
   "cell_type": "markdown",
   "id": "surface-religion",
   "metadata": {},
   "source": [
    "* random.randint(): 일정 구간의 랜덤 정수의 배열 생성"
   ]
  },
  {
   "cell_type": "code",
   "execution_count": 30,
   "id": "entertaining-queensland",
   "metadata": {},
   "outputs": [
    {
     "data": {
      "text/plain": [
       "array([[0, 1, 1],\n",
       "       [8, 4, 5],\n",
       "       [5, 1, 9]])"
      ]
     },
     "execution_count": 30,
     "metadata": {},
     "output_type": "execute_result"
    }
   ],
   "source": [
    "np.random.randint(0,10, (3,3))"
   ]
  },
  {
   "cell_type": "markdown",
   "id": "exotic-bathroom",
   "metadata": {},
   "source": [
    "> 괄호완의 앞에 두숫자는 범위 뒤의 괄호안의 숫자들은 배열의 종류를 정합니다."
   ]
  },
  {
   "cell_type": "markdown",
   "id": "strong-optimum",
   "metadata": {},
   "source": [
    "* random.normal(): 정규분포(normal distribution)를 고려한 랜덤한 수의 배열 생성\n",
    "* 평균=0, 표준편차=1, 3 x 3 배열"
   ]
  },
  {
   "cell_type": "code",
   "execution_count": 31,
   "id": "material-karen",
   "metadata": {},
   "outputs": [
    {
     "data": {
      "text/plain": [
       "array([[ 0.42276082,  0.55090035, -1.4379608 ],\n",
       "       [-0.29023089,  0.32055393,  0.13244007],\n",
       "       [ 1.33280369, -0.64765865,  0.87296921]])"
      ]
     },
     "execution_count": 31,
     "metadata": {},
     "output_type": "execute_result"
    }
   ],
   "source": [
    "np.random.normal(0,1, (3,3))"
   ]
  },
  {
   "cell_type": "markdown",
   "id": "hundred-former",
   "metadata": {},
   "source": [
    "* random.rand(): 균등분포(uniform distribution)를 고려한 랜덤한 수의 배열 생성"
   ]
  },
  {
   "cell_type": "code",
   "execution_count": 33,
   "id": "sonic-reliance",
   "metadata": {},
   "outputs": [
    {
     "data": {
      "text/plain": [
       "array([[0.93330724, 0.14417284, 0.69685341],\n",
       "       [0.6862918 , 0.77209944, 0.90579049],\n",
       "       [0.25430387, 0.68258579, 0.0081363 ]])"
      ]
     },
     "execution_count": 33,
     "metadata": {},
     "output_type": "execute_result"
    }
   ],
   "source": [
    "np.random.rand(3,3)"
   ]
  },
  {
   "cell_type": "markdown",
   "id": "sticky-package",
   "metadata": {},
   "source": [
    "* random.randn(): 표준 정규 분포(standard normal distribution)를 고려한 랜덤한 수의 배열 생성"
   ]
  },
  {
   "cell_type": "code",
   "execution_count": 37,
   "id": "otherwise-plate",
   "metadata": {},
   "outputs": [
    {
     "data": {
      "text/plain": [
       "array([[ 0.32559617,  0.00466366, -0.15815666],\n",
       "       [-0.06306112, -1.81360985,  0.8234228 ],\n",
       "       [ 0.73750109,  0.79784535,  0.97109567]])"
      ]
     },
     "execution_count": 37,
     "metadata": {},
     "output_type": "execute_result"
    }
   ],
   "source": [
    "np.random.randn(3,3)"
   ]
  },
  {
   "cell_type": "markdown",
   "id": "anonymous-vanilla",
   "metadata": {},
   "source": [
    "## 표준데이터 타입"
   ]
  },
  {
   "cell_type": "markdown",
   "id": "fossil-armstrong",
   "metadata": {},
   "source": [
    "| 데이터 타입 | 설명 |\n",
    "| ------ | -------- | \n",
    "| bool_ | 바이트로 저장된 불리언(Boolean)으로 True 또는 False 값을 가짐 | \n",
    "| int_ | 기본정수 타입 | \n",
    "| intc | C 언어세서 사용되는 int와 동일(일반적으로 int32 또는 int64) |\n",
    "| intp | 인덱싱에 사용되는 정수(C언어에서 ssize_t와 동일; 일반적으로 int32 또는 int64) | \n",
    "| int8 | 바이트(-128 ~ 127) | \n",
    "| int16 | 정수(-32768 ~ 32767) |\n",
    "| int32 | 정수(-2^31 ~ 2^31-1) | \n",
    "| int64 | 정수(-2^63 ~ 2^63-1) | \n",
    "| uint8 | 부호없는 정수(0 ~ 255) |\n",
    "| uint16 | 부호없는 정수(0 ~ 65535) | \n",
    "| uint32 | 부호없는 정수(0 ~ 2^32-1) | \n",
    "| uint64 | 부호없는 정수(0 ~ 2^64-1) |\n",
    "| float16 | 반정밀 부동 소수점 : 부호 비트, 5비트 지수, 10비트 가수 | \n",
    "| float32 | 단정밀 부동 소수점 : 부호 비트, 8비트 지수, 23비트 가수 | \n",
    "| float64 | 배정밀 부동 소수점 : 부호비트, 11비트 지수, 52비트 지수 | \n",
    "| float_ |  float64를 줄여서 표현 |\n",
    "| complex64 | 복소수, 두개의 32비트 부동 소수점 표현 | \n",
    "| complex128 | 복소수, 두개의 64비트 부동 소수점 표현 | \n",
    "| complex_ | complex123을 줄여서 표현 |"
   ]
  },
  {
   "cell_type": "code",
   "execution_count": 38,
   "id": "specified-ability",
   "metadata": {},
   "outputs": [
    {
     "data": {
      "text/plain": [
       "array([0, 0, 0, 0, 0, 0, 0, 0, 0, 0, 0, 0, 0, 0, 0, 0, 0, 0, 0, 0])"
      ]
     },
     "execution_count": 38,
     "metadata": {},
     "output_type": "execute_result"
    }
   ],
   "source": [
    "np.zeros(20, dtype = int)"
   ]
  },
  {
   "cell_type": "code",
   "execution_count": 39,
   "id": "differential-kitchen",
   "metadata": {},
   "outputs": [
    {
     "data": {
      "text/plain": [
       "array([[ True,  True,  True],\n",
       "       [ True,  True,  True],\n",
       "       [ True,  True,  True]])"
      ]
     },
     "execution_count": 39,
     "metadata": {},
     "output_type": "execute_result"
    }
   ],
   "source": [
    "np.ones((3,3), dtype = bool)"
   ]
  },
  {
   "cell_type": "code",
   "execution_count": 40,
   "id": "elementary-baptist",
   "metadata": {},
   "outputs": [
    {
     "data": {
      "text/plain": [
       "array([[1., 1., 1.],\n",
       "       [1., 1., 1.],\n",
       "       [1., 1., 1.]])"
      ]
     },
     "execution_count": 40,
     "metadata": {},
     "output_type": "execute_result"
    }
   ],
   "source": [
    "np.full((3,3), 1.0, dtype = float)"
   ]
  },
  {
   "cell_type": "markdown",
   "id": "documentary-substitute",
   "metadata": {},
   "source": [
    "## 날짜 / 시간 배열 생성"
   ]
  },
  {
   "cell_type": "markdown",
   "id": "cordless-length",
   "metadata": {},
   "source": [
    "| 코드 | 의미 |\n",
    "| ------ | -------- | \n",
    "| Y | 연 | \n",
    "| M | 월 | \n",
    "| W | 주 |\n",
    "| D | 일 | \n",
    "| h | 시 | \n",
    "| m | 분 |\n",
    "| s | 초 | \n",
    "| ms | 밀리초 | \n",
    "| us | 마이크로초 |\n",
    "| ns | 나노초 | \n",
    "| ps | 피코초 | \n",
    "| fs | 펨토초 |\n",
    "| as | 아토초 | "
   ]
  },
  {
   "cell_type": "code",
   "execution_count": 48,
   "id": "empty-merit",
   "metadata": {},
   "outputs": [
    {
     "data": {
      "text/plain": [
       "array('2020-01-01', dtype='datetime64[D]')"
      ]
     },
     "execution_count": 48,
     "metadata": {},
     "output_type": "execute_result"
    }
   ],
   "source": [
    "date  = np.array('2020-01-01', dtype = np.datetime64)\n",
    "date"
   ]
  },
  {
   "cell_type": "code",
   "execution_count": 50,
   "id": "endless-cassette",
   "metadata": {},
   "outputs": [
    {
     "data": {
      "text/plain": [
       "array(['2020-01-01', '2020-01-02', '2020-01-03', '2020-01-04',\n",
       "       '2020-01-05', '2020-01-06', '2020-01-07', '2020-01-08',\n",
       "       '2020-01-09', '2020-01-10', '2020-01-11', '2020-01-12'],\n",
       "      dtype='datetime64[D]')"
      ]
     },
     "execution_count": 50,
     "metadata": {},
     "output_type": "execute_result"
    }
   ],
   "source": [
    "date + np.arange(12)"
   ]
  },
  {
   "cell_type": "code",
   "execution_count": 51,
   "id": "needed-corpus",
   "metadata": {},
   "outputs": [
    {
     "data": {
      "text/plain": [
       "numpy.datetime64('2020-06-01T12:00')"
      ]
     },
     "execution_count": 51,
     "metadata": {},
     "output_type": "execute_result"
    }
   ],
   "source": [
    "datetime = np.datetime64('2020-06-01 12:00')\n",
    "datetime"
   ]
  },
  {
   "cell_type": "code",
   "execution_count": 53,
   "id": "ordered-position",
   "metadata": {},
   "outputs": [
    {
     "data": {
      "text/plain": [
       "numpy.datetime64('2020-06-01T12:00:12.340000000')"
      ]
     },
     "execution_count": 53,
     "metadata": {},
     "output_type": "execute_result"
    }
   ],
   "source": [
    "datetime = np.datetime64('2020-06-01 12:00:12.34', 'ns')\n",
    "datetime"
   ]
  },
  {
   "cell_type": "markdown",
   "id": "injured-february",
   "metadata": {},
   "source": [
    "[00:00 - 26:01](https://www.youtube.com/watch?v=mirZPrWwvao&ab_channel=%EC%9D%B4%EC%88%98%EC%95%88%EC%BB%B4%ED%93%A8%ED%84%B0%EC%97%B0%EA%B5%AC%EC%86%8C)."
   ]
  }
 ],
 "metadata": {
  "kernelspec": {
   "display_name": "Python 3",
   "language": "python",
   "name": "python3"
  },
  "language_info": {
   "codemirror_mode": {
    "name": "ipython",
    "version": 3
   },
   "file_extension": ".py",
   "mimetype": "text/x-python",
   "name": "python",
   "nbconvert_exporter": "python",
   "pygments_lexer": "ipython3",
   "version": "3.8.8"
  }
 },
 "nbformat": 4,
 "nbformat_minor": 5
}
