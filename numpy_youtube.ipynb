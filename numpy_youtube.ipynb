{
 "cells": [
  {
   "cell_type": "markdown",
   "id": "abandoned-italy",
   "metadata": {},
   "source": [
    "NUMPY\n",
    "======"
   ]
  },
  {
   "cell_type": "markdown",
   "id": "facial-collapse",
   "metadata": {},
   "source": [
    "--------------------"
   ]
  },
  {
   "cell_type": "markdown",
   "id": "artificial-platinum",
   "metadata": {},
   "source": [
    "## numpy의 특징"
   ]
  },
  {
   "cell_type": "markdown",
   "id": "meaningful-cooper",
   "metadata": {},
   "source": [
    "* Numerical Python의 약자\n",
    "* 고성능 과학 계산용 페키지로 강력한 N차원 배열 객체\n",
    "* 범용적 데이터 처리에 사용 가능한 다차원 컨테이너\n",
    "* 정교한 브로드캐스팅 가능\n",
    "* 파이썬의 자료형 list와 비슷하지만, 더 빠르고 메모리를 효율적으로 관리\n",
    "* 반복문 없이 데이터 배열에 대한 처리를 지원하고 빠르고 편리\n",
    "* 데이터 과학 도구에 대한 갱태계의 핵심을 이루고 있음"
   ]
  },
  {
   "cell_type": "code",
   "execution_count": 10,
   "id": "adequate-intelligence",
   "metadata": {},
   "outputs": [],
   "source": [
    "import numpy as np\n",
    "print(np.__version__)"
   ]
  },
  {
   "cell_type": "code",
   "execution_count": 13,
   "id": "contained-sacramento",
   "metadata": {},
   "outputs": [
    {
     "name": "stdout",
     "output_type": "stream",
     "text": [
      "[1 2 3 4 5]\n",
      "<class 'numpy.ndarray'>\n",
      "(5,)\n",
      "1 2 3 4 5\n",
      "[4 5 6 4 5]\n"
     ]
    }
   ],
   "source": [
    "\n",
    "a1 = np.array([1, 2, 3, 4 ,5])\n",
    "print(a1)\n",
    "print(type(a1))\n",
    "print(a1.shape)\n",
    "print(a1[0], a1[1], a1[2], a1[3], a1[4])\n",
    "a1[0] = 4\n",
    "a1[1] = 5\n",
    "a1[2] = 6\n",
    "print(a1)"
   ]
  },
  {
   "cell_type": "markdown",
   "id": "tough-baghdad",
   "metadata": {},
   "source": [
    "> 1차원 배열을 만들었습니다."
   ]
  },
  {
   "cell_type": "code",
   "execution_count": 6,
   "id": "conditional-water",
   "metadata": {},
   "outputs": [
    {
     "name": "stdout",
     "output_type": "stream",
     "text": [
      "[[1 2 3]\n",
      " [4 5 6]\n",
      " [7 8 9]]\n",
      "(3, 3)\n"
     ]
    }
   ],
   "source": [
    "a2 = np.array([ [1,2,3], [4,5,6], [7,8,9]])\n",
    "print(a2)\n",
    "print(a2.shape)\n",
    "print(a2[0,0], a2[1,1], a2[2,2])"
   ]
  },
  {
   "cell_type": "markdown",
   "id": "further-adventure",
   "metadata": {},
   "source": [
    "> 2차원 배열을 만들었습니다."
   ]
  },
  {
   "cell_type": "code",
   "execution_count": 8,
   "id": "happy-robinson",
   "metadata": {},
   "outputs": [
    {
     "name": "stdout",
     "output_type": "stream",
     "text": [
      "[[[1 2 3]\n",
      "  [4 5 6]\n",
      "  [7 8 9]]\n",
      "\n",
      " [[1 2 3]\n",
      "  [4 5 6]\n",
      "  [7 8 9]]\n",
      "\n",
      " [[1 2 3]\n",
      "  [4 5 6]\n",
      "  [7 8 9]]]\n",
      "(3, 3, 3)\n"
     ]
    }
   ],
   "source": [
    "a3 = np.array([ [ [1,2,3], [4,5,6], [7,8,9] ],\n",
    "                   [ [1,2,3], [4,5,6], [7,8,9] ],\n",
    "                   [ [1,2,3], [4,5,6], [7,8,9] ] ])\n",
    "print(a3)\n",
    "print(a3.shape)"
   ]
  },
  {
   "cell_type": "markdown",
   "id": "color-burst",
   "metadata": {},
   "source": [
    "> 3차원 배열을 만들었습니다."
   ]
  },
  {
   "cell_type": "code",
   "execution_count": 9,
   "id": "closing-reconstruction",
   "metadata": {},
   "outputs": [
    {
     "data": {
      "text/plain": [
       "array([0., 0., 0., 0., 0., 0., 0., 0., 0., 0.])"
      ]
     },
     "execution_count": 9,
     "metadata": {},
     "output_type": "execute_result"
    }
   ],
   "source": [
    "np.zeros(10)"
   ]
  }
 ],
 "metadata": {
  "kernelspec": {
   "display_name": "Python 3",
   "language": "python",
   "name": "python3"
  },
  "language_info": {
   "codemirror_mode": {
    "name": "ipython",
    "version": 3
   },
   "file_extension": ".py",
   "mimetype": "text/x-python",
   "name": "python",
   "nbconvert_exporter": "python",
   "pygments_lexer": "ipython3",
   "version": "3.8.8"
  }
 },
 "nbformat": 4,
 "nbformat_minor": 5
}
